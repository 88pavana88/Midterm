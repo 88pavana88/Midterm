{
  "cells": [
    {
      "cell_type": "markdown",
      "metadata": {
        "id": "YtbH3WxN0WC3"
      },
      "source": [
        "# Libraries"
      ]
    },
    {
      "cell_type": "code",
      "execution_count": 1,
      "metadata": {
        "id": "TI1ub6xn0WC6"
      },
      "outputs": [],
      "source": [
        "import pickle\n",
        "import pandas as pd\n",
        "import seaborn as sns\n",
        "from os.path import exists\n",
        "import matplotlib.pyplot as plt\n",
        "from sklearn.neighbors import KNeighborsClassifier\n",
        "from sklearn.model_selection import train_test_split\n",
        "from sklearn.metrics import accuracy_score, confusion_matrix\n",
        "from sklearn.feature_extraction.text import TfidfVectorizer\n",
        "from os.path import exists\n",
        "from sklearn.model_selection import GridSearchCV\n",
        "from sklearn.ensemble import RandomForestClassifier\n",
        "from sklearn.ensemble import RandomForestClassifier\n",
        "from sklearn.metrics import accuracy_score\n",
        "\n"
      ]
    },
    {
      "cell_type": "markdown",
      "metadata": {
        "id": "DpbO7p9D0WC8"
      },
      "source": [
        "# Loading the Files\n",
        "\n",
        "Download the csv files into the `data/` directory."
      ]
    },
    {
      "cell_type": "code",
      "execution_count": 2,
      "metadata": {
        "colab": {
          "base_uri": "https://localhost:8080/",
          "height": 1000
        },
        "id": "WEi_tGt70WC8",
        "outputId": "39142e00-7170-4a12-a7c0-9d573179bd63"
      },
      "outputs": [
        {
          "output_type": "stream",
          "name": "stdout",
          "text": [
            "train.csv shape is  (1697533, 9)\n",
            "test.csv shape is  (212192, 2)\n",
            "\n",
            "        Id   ProductId          UserId  HelpfulnessNumerator  \\\n",
            "0   914403  B0009W5KHM   AV6QDP8Q0ONK4                     2   \n",
            "1   354887  6303079709  A2I8RXJN80A2D2                     0   \n",
            "2  1407653  B004H0M2XC  A3FHV3RV8Z12E6                     0   \n",
            "3  1377458  B003ZJ9536  A12VLTA3ZHVPUY                     1   \n",
            "4   475323  630574453X  A13NM1PES9OXVN                     2   \n",
            "\n",
            "   HelpfulnessDenominator        Time  \\\n",
            "0                       2  1341014400   \n",
            "1                       0  1168819200   \n",
            "2                       0  1386201600   \n",
            "3                       1  1348704000   \n",
            "4                       3   970012800   \n",
            "\n",
            "                                         Summary  \\\n",
            "0                                  GOOD FUN FILM   \n",
            "1                                   Movie Review   \n",
            "2             When is it a good time to Consent?   \n",
            "3                                          TRUTH   \n",
            "4  Intelligent and bittersweet -- stays with you   \n",
            "\n",
            "                                                Text  Score  \n",
            "0  While most straight to DVD films are not worth...    5.0  \n",
            "1  I have wanted this one for sometime, also.  I ...    5.0  \n",
            "2  Actually this was a pretty darn good indie fil...    4.0  \n",
            "3  Episodes 37 to 72 of the series press on in a ...    5.0  \n",
            "4  I was really impressed with this movie, but wa...    3.0  \n",
            "\n",
            "        Id  Score\n",
            "0  1323432    NaN\n",
            "1  1137299    NaN\n",
            "2  1459366    NaN\n",
            "3   931601    NaN\n",
            "4  1311995    NaN\n",
            "\n",
            "                 Id  HelpfulnessNumerator  HelpfulnessDenominator  \\\n",
            "count  1.697533e+06          1.697533e+06            1.697533e+06   \n",
            "mean   8.487660e+05          3.569048e+00            5.301422e+00   \n",
            "std    4.900357e+05          1.727883e+01            2.024445e+01   \n",
            "min    0.000000e+00          0.000000e+00            0.000000e+00   \n",
            "25%    4.243830e+05          0.000000e+00            0.000000e+00   \n",
            "50%    8.487660e+05          1.000000e+00            1.000000e+00   \n",
            "75%    1.273149e+06          3.000000e+00            5.000000e+00   \n",
            "max    1.697532e+06          6.084000e+03            6.510000e+03   \n",
            "\n",
            "               Time         Score  \n",
            "count  1.697533e+06  1.485341e+06  \n",
            "mean   1.262422e+09  4.110517e+00  \n",
            "std    1.289277e+08  1.197651e+00  \n",
            "min    8.793792e+08  1.000000e+00  \n",
            "25%    1.164413e+09  4.000000e+00  \n",
            "50%    1.307491e+09  5.000000e+00  \n",
            "75%    1.373242e+09  5.000000e+00  \n",
            "max    1.406074e+09  5.000000e+00  \n"
          ]
        },
        {
          "output_type": "display_data",
          "data": {
            "text/plain": [
              "<Figure size 640x480 with 1 Axes>"
            ],
            "image/png": "[encoded data removed]"
          },
          "metadata": {}
        },
        {
          "output_type": "stream",
          "name": "stdout",
          "text": [
            "\n",
            "EVERYTHING IS PROPERLY SET UP! YOU ARE READY TO START\n"
          ]
        }
      ],
      "source": [
        "trainingSet = pd.read_csv(\"./data/train.csv\")\n",
        "testingSet = pd.read_csv(\"./data/test.csv\")\n",
        "\n",
        "print(\"train.csv shape is \", trainingSet.shape)\n",
        "print(\"test.csv shape is \", testingSet.shape)\n",
        "\n",
        "print()\n",
        "\n",
        "print(trainingSet.head())\n",
        "print()\n",
        "print(testingSet.head())\n",
        "\n",
        "print()\n",
        "\n",
        "print(trainingSet.describe())\n",
        "\n",
        "trainingSet['Score'].value_counts().plot(kind='bar', legend=True, alpha=.5)\n",
        "plt.show()\n",
        "\n",
        "print()\n",
        "print(\"EVERYTHING IS PROPERLY SET UP! YOU ARE READY TO START\")"
      ]
    },
    {
      "cell_type": "markdown",
      "metadata": {
        "id": "KcDlydKS0WC_"
      },
      "source": [
        "# Adding Features"
      ]
    },
    {
      "cell_type": "code",
      "execution_count": 3,
      "metadata": {
        "id": "_nSNi-qX0WC_"
      },
      "outputs": [],
      "source": [
        "def add_features_to(df):\n",
        "    # Feature extraction\n",
        "\n",
        "\n",
        "    if 'HelpfulnessNumerator' in df.columns and 'HelpfulnessDenominator' in df.columns:\n",
        "        df['Helpfulness'] = df['HelpfulnessNumerator'] / df['HelpfulnessDenominator'].replace(0, 1)\n",
        "        df['Helpfulness'] = df['Helpfulness'].fillna(0)\n",
        "\n",
        "\n",
        "    if 'Time' in df.columns:\n",
        "        df['Year'] = pd.to_datetime(df['Time'], unit='s').dt.year\n",
        "        df['Month'] = pd.to_datetime(df['Time'], unit='s').dt.month\n",
        "\n",
        "\n",
        "        df['Is_Recent'] = (df['Year'] > df['Year'].median()).astype(int)\n",
        "\n",
        "\n",
        "    if 'Text' in df.columns:\n",
        "        df['TextLength'] = df['Text'].apply(lambda x: len(str(x)) if pd.notnull(x) else 0)\n",
        "\n",
        "\n",
        "    if 'Summary' in df.columns:\n",
        "        df['SummaryWordCount'] = df['Summary'].apply(lambda x: len(str(x).split()) if pd.notnull(x) else 0)\n",
        "\n",
        "\n",
        "    if 'Helpfulness' in df.columns:\n",
        "        df['Helpfulness_Bin'] = pd.cut(df['Helpfulness'], bins=[-1, 0.2, 0.5, 1], labels=['Low', 'Medium', 'High'])\n",
        "        df = pd.get_dummies(df, columns=['Helpfulness_Bin'])\n",
        "\n",
        "\n",
        "    if 'HelpfulnessNumerator' in df.columns and 'HelpfulnessDenominator' in df.columns:\n",
        "        df['Helpfulness_Diff'] = df['HelpfulnessNumerator'] - df['HelpfulnessDenominator']\n",
        "\n",
        "    return df\n",
        "\n",
        "\n",
        "\n",
        "if exists('./data/X_train.csv'):\n",
        "    X_train = pd.read_csv(\"./data/X_train.csv\")\n",
        "    X_submission = pd.read_csv(\"./data/X_submission.csv\")\n",
        "\n",
        "else:\n",
        "\n",
        "    X_train = add_features_to(trainingSet)\n",
        "    X_submission = add_features_to(testingSet)\n",
        "\n",
        "\n",
        "    X_submission = pd.merge(X_train, X_submission, left_on='Id', right_on='Id')\n",
        "    X_submission = X_submission.drop(columns=['Score_x'])\n",
        "    X_submission = X_submission.rename(columns={'Score_y': 'Score'})\n",
        "\n",
        "\n",
        "    X_train = X_train[X_train['Score'].notnull()]\n",
        "\n",
        "\n",
        "    X_submission.to_csv(\"./data/X_submission.csv\", index=False)\n",
        "    X_train.to_csv(\"./data/X_train.csv\", index=False)\n"
      ]
    },
    {
      "cell_type": "markdown",
      "metadata": {
        "id": "0JNBA-zf0WDA"
      },
      "source": [
        "# Sample + Split into training and testing set"
      ]
    },
    {
      "cell_type": "code",
      "execution_count": 4,
      "metadata": {
        "id": "ofqIkSBk0WDA"
      },
      "outputs": [],
      "source": [
        "# Split training set into training and testing set\n",
        "X_train, X_test, Y_train, Y_test = train_test_split(\n",
        "    X_train.drop(columns=['Score']),\n",
        "    X_train['Score'],\n",
        "    test_size=1/4.0,\n",
        "    random_state=0\n",
        ")"
      ]
    },
    {
      "cell_type": "markdown",
      "metadata": {
        "id": "K4I8Ssin0WDB"
      },
      "source": [
        "# Feature Selection"
      ]
    },
    {
      "cell_type": "code",
      "execution_count": 5,
      "metadata": {
        "id": "TPScDXGG0WDC"
      },
      "outputs": [],
      "source": [
        "# Ensure feature engineering has been applied\n",
        "X_train = add_features_to(X_train)\n",
        "X_test = add_features_to(X_test)\n",
        "X_submission = add_features_to(X_submission)\n",
        "\n",
        "\n",
        "features = ['Helpfulness', 'HelpfulnessNumerator', 'HelpfulnessDenominator', 'TextLength', 'SummaryWordCount',\n",
        "            'Helpfulness_Bin_Low', 'Helpfulness_Bin_Medium', 'Helpfulness_Bin_High',\n",
        "            'Year', 'Month', 'Is_Recent', 'Helpfulness_Diff']\n",
        "\n",
        "\n",
        "X_train_select = X_train[features]\n",
        "X_test_select = X_test[features]\n",
        "X_submission_select = X_submission[features]\n",
        "\n"
      ]
    },
    {
      "cell_type": "markdown",
      "metadata": {
        "id": "JTRhbZlt0WDC"
      },
      "source": [
        "# Model Creation"
      ]
    },
    {
      "cell_type": "code",
      "execution_count": 6,
      "metadata": {
        "colab": {
          "base_uri": "https://localhost:8080/"
        },
        "id": "4v99ER8p0WDC",
        "outputId": "ca6eb2b6-28e9-4898-c053-38be94f1cac2"
      },
      "outputs": [
        {
          "output_type": "stream",
          "name": "stdout",
          "text": [
            "Optimized Random Forest accuracy on testing set: 0.5534637094168084\n"
          ]
        }
      ],
      "source": [
        "# Initialize Random Forest Model with optimizations\n",
        "rf_model = RandomForestClassifier(n_estimators=50, max_depth=10, random_state=42, n_jobs=-1)\n",
        "\n",
        "# Fit model on a sample of the data (optional for speed)\n",
        "X_train_sample = X_train_select.sample(frac=0.3, random_state=42)\n",
        "Y_train_sample = Y_train.loc[X_train_sample.index]\n",
        "rf_model.fit(X_train_sample, Y_train_sample)\n",
        "\n",
        "# Predict and evaluate on the test set\n",
        "Y_test_predictions = rf_model.predict(X_test_select)\n",
        "print(\"Optimized Random Forest accuracy on testing set:\", accuracy_score(Y_test, Y_test_predictions))\n"
      ]
    },
    {
      "cell_type": "markdown",
      "metadata": {
        "id": "VYM9r2yQ0WDD"
      },
      "source": [
        "# Model Evaluation"
      ]
    },
    {
      "cell_type": "code",
      "execution_count": 7,
      "metadata": {
        "colab": {
          "base_uri": "https://localhost:8080/",
          "height": 489
        },
        "id": "ArrdlTp_0WDD",
        "outputId": "a042e6d5-4bc2-4aa3-9ddf-c154ba263716"
      },
      "outputs": [
        {
          "output_type": "stream",
          "name": "stdout",
          "text": [
            "Accuracy on testing set =  0.5534637094168084\n"
          ]
        },
        {
          "output_type": "display_data",
          "data": {
            "text/plain": [
              "<Figure size 640x480 with 2 Axes>"
            ],
            "image/png": "[encoded data removed]"
          },
          "metadata": {}
        }
      ],
      "source": [
        "# Evaluate your model on the testing set\n",
        "print(\"Accuracy on testing set = \", accuracy_score(Y_test, Y_test_predictions))\n",
        "\n",
        "# Plot a confusion matrix\n",
        "cm = confusion_matrix(Y_test, Y_test_predictions, normalize='true')\n",
        "sns.heatmap(cm, annot=True)\n",
        "plt.title('Confusion matrix of the classifier')\n",
        "plt.xlabel('Predicted')\n",
        "plt.ylabel('True')\n",
        "plt.show()"
      ]
    },
    {
      "cell_type": "markdown",
      "metadata": {
        "id": "OawyH3H60WDE"
      },
      "source": [
        "# Create submission file"
      ]
    },
    {
      "cell_type": "code",
      "execution_count": null,
      "metadata": {
        "id": "aXChDYcV0WDE"
      },
      "outputs": [],
      "source": [
        "X_submission['Score'] = model.predict(X_submission_select)\n",
        "submission = X_submission[['Id', 'Score']]\n",
        "submission.to_csv(\"./data/submission.csv\", index=False)"
      ]
    }
  ],
  "metadata": {
    "kernelspec": {
      "display_name": "env",
      "language": "python",
      "name": "python3"
    },
    "language_info": {
      "codemirror_mode": {
        "name": "ipython",
        "version": 3
      },
      "file_extension": ".py",
      "mimetype": "text/x-python",
      "name": "python",
      "nbconvert_exporter": "python",
      "pygments_lexer": "ipython3",
      "version": "3.12.3"
    },
    "colab": {
      "provenance": []
    }
  },
  "nbformat": 4,
  "nbformat_minor": 0
}